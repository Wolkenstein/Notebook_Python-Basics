{
 "cells": [
  {
   "cell_type": "markdown",
   "id": "0dae5b62-890f-4e3d-934a-7cad26ce0f6b",
   "metadata": {
    "slideshow": {
     "slide_type": "slide"
    },
    "tags": []
   },
   "source": [
    "# Python Basics Notebook\n",
    "\n",
    "## Introduction\n",
    "\n",
    "This notebook is intended to teach some basics of the Python 3 language. It is by no means comprehensive or the only ressource one should refer to when learning python. There are numberless great python introduction available including:\n",
    "\n",
    "* [W3 Schools Python Tutorial](https://www.w3schools.com/python/default.asp)\n",
    "* [Real Python Tutorials](https://realpython.com/)\n",
    "* [Realated python questions of the stackoverflow community](https://stackoverflow.com/questions/tagged/python)\n",
    "\n",
    "All examples in this notebook are embedded as code and can be executed directly. And don't miss on the \"What to du next\"-Section at the end of this notebook.\n",
    "\n",
    "## Anaconda and Jupyter Labs\n",
    "\n",
    "A starting point for programming with python is the [Anaconda](https://www.anaconda.com/) package, which focusses on data science and comes bundeled with some of the most popular python libraries. It also contains *Jupyter Lab*, which can be used to create and execute *Jupyter notebooks* like this."
   ]
  },
  {
   "cell_type": "markdown",
   "id": "0331753e-416b-4483-949d-22e5a082b07f",
   "metadata": {
    "slideshow": {
     "slide_type": "slide"
    },
    "tags": []
   },
   "source": [
    "## Hello World!\n",
    "\n",
    "Before we have a more systematic look into python concepts, let's start with a classic \"Hello world\" example.\n",
    "\n",
    "### First Version\n",
    "\n",
    "Our first program is to output the text \"Hello World\". For this we need the __function__ *print()*, which expects a __string__ as argument. To define a string, we have to surround the character string with quotation marks. Both single and double quotation marks can be used."
   ]
  },
  {
   "cell_type": "code",
   "execution_count": 1,
   "id": "9674627b-ab83-46ca-8855-ea7b3badd537",
   "metadata": {
    "slideshow": {
     "slide_type": "fragment"
    },
    "tags": []
   },
   "outputs": [
    {
     "name": "stdout",
     "output_type": "stream",
     "text": [
      "Hello World!\n"
     ]
    }
   ],
   "source": [
    "print('Hello World!')"
   ]
  },
  {
   "cell_type": "markdown",
   "id": "296c1041-87e4-4bc1-8d32-353b6f714605",
   "metadata": {
    "slideshow": {
     "slide_type": "subslide"
    },
    "tags": []
   },
   "source": [
    "### Hello \\<enter Name>!\n",
    "\n",
    "Now we would like to first ask for a name, and then issue \"Hello <user>\"."
   ]
  },
  {
   "cell_type": "code",
   "execution_count": 2,
   "id": "f7e93030-a3e5-414d-b106-c92651660b4a",
   "metadata": {
    "slideshow": {
     "slide_type": "fragment"
    },
    "tags": []
   },
   "outputs": [
    {
     "name": "stdin",
     "output_type": "stream",
     "text": [
      " Oswald\n"
     ]
    },
    {
     "name": "stdout",
     "output_type": "stream",
     "text": [
      "Hello Oswald!\n"
     ]
    }
   ],
   "source": [
    "name = input()\n",
    "print(f'Hello {name}!')"
   ]
  },
  {
   "cell_type": "markdown",
   "id": "3b95cb35-9178-4b29-8083-312544dd67ee",
   "metadata": {
    "slideshow": {
     "slide_type": "fragment"
    },
    "tags": []
   },
   "source": [
    "The function *input()* enables the direct input of a value. We save this value as the __variable__ *name*. We output this in *print()* with a so-called *formatted string*. If we put an *f* in front of the string, a variable can be specified in curly brackets {}, which is then inserted into the string."
   ]
  },
  {
   "cell_type": "markdown",
   "id": "52b3c077-8cd0-49b0-8b18-d723fc9084ca",
   "metadata": {
    "slideshow": {
     "slide_type": "subslide"
    },
    "tags": []
   },
   "source": [
    "### Hello Users!\n",
    "\n",
    "Now we would like to welcome not only one user, but several users. We specify these as a list of strings."
   ]
  },
  {
   "cell_type": "code",
   "execution_count": 3,
   "id": "117ccdf9-b442-4eff-a838-cafc372d6e4e",
   "metadata": {
    "slideshow": {
     "slide_type": "fragment"
    },
    "tags": []
   },
   "outputs": [
    {
     "name": "stdout",
     "output_type": "stream",
     "text": [
      "Hello Quinn!\n",
      "Hello Charlie!\n",
      "Hello Jessie!\n"
     ]
    }
   ],
   "source": [
    "nameList = ['Quinn','Charlie','Jessie']\n",
    "\n",
    "for name in nameList:\n",
    "    print(f'Hello {name}!')"
   ]
  },
  {
   "cell_type": "markdown",
   "id": "6edb53fc-34a0-46a4-86d1-1997082a2bdb",
   "metadata": {
    "slideshow": {
     "slide_type": "fragment"
    },
    "tags": []
   },
   "source": [
    "We have now used a loop to output the greeting for each name. We have previously given the names as a __list__."
   ]
  },
  {
   "cell_type": "markdown",
   "id": "33a2677c-e714-4cb3-a139-4e353d1fa424",
   "metadata": {
    "slideshow": {
     "slide_type": "slide"
    },
    "tags": []
   },
   "source": [
    "### Hello World - advanced version\n",
    "\n",
    "Finally, input and output are now to be outsourced to two functions. Users should enter a list of names separated by commas."
   ]
  },
  {
   "cell_type": "code",
   "execution_count": 4,
   "id": "316b0fb8-4dd4-45b2-baa2-ae366649398c",
   "metadata": {
    "slideshow": {
     "slide_type": "fragment"
    },
    "tags": []
   },
   "outputs": [
    {
     "name": "stdout",
     "output_type": "stream",
     "text": [
      "Please enter a list of names separated by comma\n"
     ]
    },
    {
     "name": "stdin",
     "output_type": "stream",
     "text": [
      " Oswald,Wolfram,Hartmann\n"
     ]
    },
    {
     "name": "stdout",
     "output_type": "stream",
     "text": [
      "Hello Oswald!\n",
      "Hello Wolfram!\n",
      "Hello Hartmann!\n"
     ]
    }
   ],
   "source": [
    "def getUsers() -> list:\n",
    "    print (\"Please enter a list of names separated by comma\")\n",
    "    s = input()\n",
    "    return s.split(',')\n",
    "\n",
    "def helloUsers(nameList:list):\n",
    "    for name in nameList:\n",
    "        print(f'Hello {name}!')\n",
    "\n",
    "inputs= getUsers()\n",
    "helloUsers(nameList=inputs)"
   ]
  },
  {
   "cell_type": "markdown",
   "id": "bc0c16ac-3f65-4293-b4ac-5f020098851e",
   "metadata": {
    "slideshow": {
     "slide_type": "slide"
    },
    "tags": []
   },
   "source": [
    "## Basic Concepts"
   ]
  },
  {
   "cell_type": "markdown",
   "id": "d3da16f7-ed86-4d04-8842-6a604ada834e",
   "metadata": {
    "slideshow": {
     "slide_type": "fragment"
    },
    "tags": []
   },
   "source": [
    "### Variables\n",
    "\n",
    "__Variables__ can store any kind of information."
   ]
  },
  {
   "cell_type": "code",
   "execution_count": 5,
   "id": "4f3a144a-903e-4166-9ab9-fab545128ce5",
   "metadata": {
    "slideshow": {
     "slide_type": "fragment"
    },
    "tags": []
   },
   "outputs": [],
   "source": [
    "myVariable= 'This is my variable'"
   ]
  },
  {
   "cell_type": "markdown",
   "id": "f2763ce2-eb6e-4604-9cb0-a10cf05be5f5",
   "metadata": {
    "slideshow": {
     "slide_type": "subslide"
    },
    "tags": []
   },
   "source": [
    "#### Scope of variables\n",
    "\n",
    "Variables declared in functions are only avaiable in the funciton. Other variables are global. The second code example produces an error, because we definded *word* inside the function *printHello*."
   ]
  },
  {
   "cell_type": "code",
   "execution_count": 6,
   "id": "b70c4ed1-2836-4198-8070-cdcb2e98ce2c",
   "metadata": {
    "slideshow": {
     "slide_type": "fragment"
    },
    "tags": []
   },
   "outputs": [
    {
     "name": "stdout",
     "output_type": "stream",
     "text": [
      "hello\n"
     ]
    }
   ],
   "source": [
    "def printHello():\n",
    "    word= 'hello'\n",
    "    print(word)\n",
    "\n",
    "printHello()    "
   ]
  },
  {
   "cell_type": "code",
   "execution_count": 7,
   "id": "73329f68-89e0-4e7e-ad26-13aba3269de6",
   "metadata": {
    "slideshow": {
     "slide_type": "fragment"
    },
    "tags": []
   },
   "outputs": [
    {
     "name": "stdout",
     "output_type": "stream",
     "text": [
      "Error\n"
     ]
    }
   ],
   "source": [
    "try:\n",
    "    print(word)\n",
    "except:\n",
    "    print('Error')"
   ]
  },
  {
   "cell_type": "markdown",
   "id": "bbe9605a-d265-4139-aa0c-31d5f6c9b6d7",
   "metadata": {
    "slideshow": {
     "slide_type": "subslide"
    },
    "tags": []
   },
   "source": [
    "### Indentation by white space\n",
    "\n",
    "Python code needs to be indented properly. I.e. Blocks of code in a loop or other structures need to be indented by whitespace."
   ]
  },
  {
   "cell_type": "code",
   "execution_count": 8,
   "id": "eb1477b0-f735-4f11-813c-b452c28e3561",
   "metadata": {
    "slideshow": {
     "slide_type": "fragment"
    },
    "tags": []
   },
   "outputs": [
    {
     "name": "stdout",
     "output_type": "stream",
     "text": [
      "It's not Jessie\n",
      "It's not Jessie\n",
      "It's Jessie\n"
     ]
    }
   ],
   "source": [
    "for name in ['Quinn','Charlie','Jessie']:\n",
    "    if name == 'Jessie':\n",
    "        print(\"It's Jessie\")\n",
    "    else:\n",
    "        print(\"It's not Jessie\")"
   ]
  },
  {
   "cell_type": "markdown",
   "id": "4dfc1359-ae6e-4614-bb3d-4d2d8f09b8ae",
   "metadata": {
    "slideshow": {
     "slide_type": "subslide"
    },
    "tags": []
   },
   "source": [
    "### Functions\n",
    "\n",
    "Functions can be used to structure and reorganize code. They can have an input and an output."
   ]
  },
  {
   "cell_type": "code",
   "execution_count": 9,
   "id": "c5379f66-8a1c-45cf-a432-9f56d074df9f",
   "metadata": {
    "slideshow": {
     "slide_type": "fragment"
    },
    "tags": []
   },
   "outputs": [
    {
     "name": "stdout",
     "output_type": "stream",
     "text": [
      "780\n"
     ]
    }
   ],
   "source": [
    "def sumOfAList(inputList:list) -> int:\n",
    "    sum= 0\n",
    "    for number in inputList:\n",
    "        sum = sum + number\n",
    "    return sum\n",
    "\n",
    "numbers= [29,43,523,86,23,76]\n",
    "print(sumOfAList(numbers))"
   ]
  },
  {
   "cell_type": "markdown",
   "id": "3c29c0c8-5296-4865-8d48-0f80323159a6",
   "metadata": {
    "slideshow": {
     "slide_type": "subslide"
    },
    "tags": []
   },
   "source": [
    "### Modules and installation with pip\n",
    "\n",
    "Code can be organized and shared as modules. We will skip on the creation of modules for now, but the is a great and easy to use repository for python modules called [*pypi* - Python Package Index](https://pypi.org/).\n",
    "\n",
    "Packages provided over pypi can be install with *pip* in the console. For example, you can install the Pandas-Module to process tables:\n",
    "\n",
    "```bash\n",
    "    $pip install pandas\n",
    "```"
   ]
  },
  {
   "cell_type": "markdown",
   "id": "cbdc595a-dda4-4faf-8bb5-0df2524062b0",
   "metadata": {
    "slideshow": {
     "slide_type": "slide"
    },
    "tags": []
   },
   "source": [
    "## Data Types\n",
    "\n",
    "Python knows a number of data types, some of which we have already learned about.\n",
    "\n",
    "### Strings\n",
    "\n",
    "A string is a string of characters for which a number of methods are provided in Python."
   ]
  },
  {
   "cell_type": "code",
   "execution_count": 10,
   "id": "f842db90-08be-46e2-95d2-894376de923e",
   "metadata": {
    "slideshow": {
     "slide_type": "fragment"
    },
    "tags": []
   },
   "outputs": [
    {
     "data": {
      "text/plain": [
       "'\\n    funtions\\n    with \\n    double \\n    quotation\\n    marks\\n    as\\n    well\\n'"
      ]
     },
     "execution_count": 10,
     "metadata": {},
     "output_type": "execute_result"
    }
   ],
   "source": [
    "'this is a string'\n",
    "\n",
    "\"this is another string\"\n",
    "\n",
    "'''\n",
    "    Use multiple quotation marks \n",
    "    for multi line string\n",
    "'''\n",
    "\n",
    "\"\"\"\n",
    "    funtions\n",
    "    with \n",
    "    double \n",
    "    quotation\n",
    "    marks\n",
    "    as\n",
    "    well\n",
    "\"\"\""
   ]
  },
  {
   "cell_type": "markdown",
   "id": "023ab9e4-fda8-4de8-8918-1d8e75d6bdf1",
   "metadata": {
    "slideshow": {
     "slide_type": "subslide"
    },
    "tags": []
   },
   "source": [
    "#### Formatted String\n",
    "\n",
    "A formatted string may included variable, which will be inserted into the string"
   ]
  },
  {
   "cell_type": "code",
   "execution_count": 11,
   "id": "fb99afa3-6d59-4fec-9010-c608eb9f0e30",
   "metadata": {
    "slideshow": {
     "slide_type": "fragment"
    },
    "tags": []
   },
   "outputs": [
    {
     "name": "stdout",
     "output_type": "stream",
     "text": [
      "This is a formatted String.\n"
     ]
    }
   ],
   "source": [
    "variable= 'formatted'\n",
    "\n",
    "print(f'This is a {variable} String.')"
   ]
  },
  {
   "cell_type": "markdown",
   "id": "997bc83a-4db5-4840-980f-833bc2544676",
   "metadata": {},
   "source": [
    "#### Raw String\n",
    "\n",
    "With a regular string, certain characters are processed in the output. For example, \"\\n\" can create a new line. A raw string, on the other hand, is processed as it is specified."
   ]
  },
  {
   "cell_type": "code",
   "execution_count": 12,
   "id": "d72e38c0-9777-444b-90f1-df6662cdd364",
   "metadata": {
    "slideshow": {
     "slide_type": "fragment"
    },
    "tags": []
   },
   "outputs": [
    {
     "name": "stdout",
     "output_type": "stream",
     "text": [
      "Includes\n",
      "Linebreaks\n",
      "\n",
      "Includes\\nLinebreak\\n\n"
     ]
    }
   ],
   "source": [
    "s = \"Includes\\nLinebreaks\\n\"\n",
    "sr = r\"Includes\\nLinebreak\\n\"\n",
    "\n",
    "print(s)\n",
    "\n",
    "print(sr)"
   ]
  },
  {
   "cell_type": "markdown",
   "id": "a3355d3d-b0e5-4920-aa66-dfa9bdd7c8a0",
   "metadata": {
    "slideshow": {
     "slide_type": "subslide"
    },
    "tags": []
   },
   "source": [
    "### Numbers\n",
    "\n",
    "Python includes basic numeric formats. __Integer__ is a whole positive or negative number, __Float__ in addition can also contain decimals. __Complex__ can include an imegunary part. Numbers need no quotation marks."
   ]
  },
  {
   "cell_type": "code",
   "execution_count": 13,
   "id": "142a715b-54d0-456f-bf8a-78ea8733c8db",
   "metadata": {
    "slideshow": {
     "slide_type": "fragment"
    },
    "tags": []
   },
   "outputs": [
    {
     "name": "stdout",
     "output_type": "stream",
     "text": [
      "1234 is a <class 'int'>\n",
      "1234.5678 is a <class 'float'>\n",
      "1234.5678j is a <class 'complex'>\n"
     ]
    }
   ],
   "source": [
    "i = 1234\n",
    "f = 1234.5678\n",
    "c = 1234.5678j\n",
    "\n",
    "print(f'{i} is a {type(i)}')\n",
    "print(f'{f} is a {type(f)}')\n",
    "print(f'{c} is a {type(c)}')"
   ]
  },
  {
   "cell_type": "markdown",
   "id": "6b912220-9dad-46fa-bad0-523ed5c44d74",
   "metadata": {},
   "source": [
    "The method *type()* used here returns the type of the variable."
   ]
  },
  {
   "cell_type": "markdown",
   "id": "55cc27f7-f3a3-44de-8d09-a123b5478999",
   "metadata": {
    "slideshow": {
     "slide_type": "subslide"
    },
    "tags": []
   },
   "source": [
    "### Boolean\n",
    "\n",
    "A boolen is a dtatype which can be *True* or *False*."
   ]
  },
  {
   "cell_type": "code",
   "execution_count": 14,
   "id": "2d545f60-bbc0-4785-a8d0-9e619e83fb4f",
   "metadata": {
    "slideshow": {
     "slide_type": "fragment"
    },
    "tags": []
   },
   "outputs": [
    {
     "name": "stdout",
     "output_type": "stream",
     "text": [
      "True\n",
      "False\n"
     ]
    }
   ],
   "source": [
    "a= True\n",
    "b= False\n",
    "\n",
    "print(a)\n",
    "print(b)"
   ]
  },
  {
   "cell_type": "markdown",
   "id": "b8cf01b8-9107-4ba0-a6ca-c179e1efeb00",
   "metadata": {
    "slideshow": {
     "slide_type": "subslide"
    },
    "tags": []
   },
   "source": [
    "### Collections\n",
    "\n",
    "Collections are data types which contain multiple values."
   ]
  },
  {
   "cell_type": "markdown",
   "id": "061e9c77-1a5e-423b-8cca-975555c9ee03",
   "metadata": {
    "slideshow": {
     "slide_type": "fragment"
    },
    "tags": []
   },
   "source": [
    "#### List\n",
    "\n",
    "A list or array is the most basic collection. It is a list of any values, including other collections."
   ]
  },
  {
   "cell_type": "code",
   "execution_count": 15,
   "id": "e9d7951d-d3c9-4987-a91e-65704c2b16c4",
   "metadata": {
    "slideshow": {
     "slide_type": "fragment"
    },
    "tags": []
   },
   "outputs": [
    {
     "name": "stdout",
     "output_type": "stream",
     "text": [
      "['apple', 'banana', 'prune', 'apple']\n"
     ]
    }
   ],
   "source": [
    "l = ['apple', 'banana', 'prune','apple']\n",
    "\n",
    "print(l)"
   ]
  },
  {
   "cell_type": "markdown",
   "id": "01277da4-1098-4f62-8cea-fbbfd1900ae7",
   "metadata": {
    "slideshow": {
     "slide_type": "subslide"
    },
    "tags": []
   },
   "source": [
    "##### Set\n",
    "\n",
    "A set can only contain unique values. "
   ]
  },
  {
   "cell_type": "code",
   "execution_count": 16,
   "id": "6fd0e216-5a91-4633-9551-e06bc7323a47",
   "metadata": {
    "slideshow": {
     "slide_type": "fragment"
    },
    "tags": []
   },
   "outputs": [
    {
     "name": "stdout",
     "output_type": "stream",
     "text": [
      "{'banana', 'apple', 'prune'}\n"
     ]
    }
   ],
   "source": [
    "s = {'apple', 'banana', 'prune'}\n",
    "print(s)"
   ]
  },
  {
   "cell_type": "markdown",
   "id": "ac336849-75da-4ded-90c4-2d1bb164e8ce",
   "metadata": {},
   "source": [
    "As an additional example, we will transform the previous list into a set and print it."
   ]
  },
  {
   "cell_type": "code",
   "execution_count": 17,
   "id": "38b670aa-707f-4259-a192-1c180ed9ef50",
   "metadata": {
    "slideshow": {
     "slide_type": "fragment"
    },
    "tags": []
   },
   "outputs": [
    {
     "name": "stdout",
     "output_type": "stream",
     "text": [
      "{'banana', 'apple', 'prune'}\n"
     ]
    }
   ],
   "source": [
    "s= set(l)\n",
    "\n",
    "print(s)"
   ]
  },
  {
   "cell_type": "markdown",
   "id": "f3625c06-66c0-4f54-a060-fe8929fc3388",
   "metadata": {
    "slideshow": {
     "slide_type": "subslide"
    },
    "tags": []
   },
   "source": [
    "##### Tuple\n",
    "\n",
    "A tuple is a type of list, which cannot be changed afer its generation."
   ]
  },
  {
   "cell_type": "code",
   "execution_count": 18,
   "id": "56fab498-0f73-4cb6-97ef-71a679485e8e",
   "metadata": {
    "slideshow": {
     "slide_type": "fragment"
    },
    "tags": []
   },
   "outputs": [
    {
     "name": "stdout",
     "output_type": "stream",
     "text": [
      "('apple', 'banana', 'prune')\n"
     ]
    }
   ],
   "source": [
    "t= ('apple', 'banana', 'prune')\n",
    "\n",
    "print (t)"
   ]
  },
  {
   "cell_type": "markdown",
   "id": "92e5f3ae-4401-4cc8-9612-6e8406088cbe",
   "metadata": {
    "slideshow": {
     "slide_type": "subslide"
    },
    "tags": []
   },
   "source": [
    "#### Dictionary\n",
    "\n",
    "A dictionary is a collection of key-value-pairs. The keys in a dictionary must be unique."
   ]
  },
  {
   "cell_type": "code",
   "execution_count": 19,
   "id": "625196b3-927a-477a-9bc4-43ec18ad2001",
   "metadata": {
    "slideshow": {
     "slide_type": "fragment"
    },
    "tags": []
   },
   "outputs": [
    {
     "name": "stdout",
     "output_type": "stream",
     "text": [
      "{'fruit': 'banana', 'color': 'yellow', 'taste': 'sweet'}\n"
     ]
    }
   ],
   "source": [
    "d= {\n",
    "    'fruit':'banana',\n",
    "    'color':'yellow',\n",
    "    'taste':'sweet'\n",
    "}\n",
    "\n",
    "print(d)"
   ]
  },
  {
   "cell_type": "markdown",
   "id": "69996e39-aa00-44d8-906c-2f77d24d4847",
   "metadata": {
    "slideshow": {
     "slide_type": "subslide"
    },
    "tags": []
   },
   "source": [
    "#### Usage\n",
    "\n",
    "Collections allow complex structures, because the can be combined freely. So a list of dictionaries and other combinations are possible."
   ]
  },
  {
   "cell_type": "code",
   "execution_count": 20,
   "id": "41a3e2ba-98e4-403c-ab27-5732fae60890",
   "metadata": {
    "slideshow": {
     "slide_type": "fragment"
    },
    "tags": []
   },
   "outputs": [
    {
     "name": "stdout",
     "output_type": "stream",
     "text": [
      "[{'fruit': 'apple', 'color': 'red', 'taste': 'sweet', 'cultivars': {'Edelborsdorfer', 'Codlin', 'Winter Pearmain'}}, {'fruit': 'banana', 'color': 'yellow', 'taste': 'sweet', 'cultivars': {'Cavendish'}}, {'fruit': 'prune', 'color': 'purple', 'taste': 'sweet', 'cultivars': {'Tulare Giant', 'Improved French'}}]\n"
     ]
    }
   ],
   "source": [
    "apple= {\n",
    "    'fruit':'apple',\n",
    "    'color':'red',\n",
    "    'taste':'sweet',\n",
    "    'cultivars':{'Edelborsdorfer','Codlin','Winter Pearmain'}\n",
    "}\n",
    "\n",
    "banana= {\n",
    "    'fruit':'banana',\n",
    "    'color':'yellow',\n",
    "    'taste':'sweet',\n",
    "    'cultivars':{'Cavendish'}\n",
    "}\n",
    "\n",
    "prune= {\n",
    "    'fruit':'prune',\n",
    "    'color':'purple',\n",
    "    'taste':'sweet',\n",
    "    'cultivars':{'Improved French','Tulare Giant'}\n",
    "}\n",
    "\n",
    "fruits= [apple,banana,prune]\n",
    "print(fruits)"
   ]
  },
  {
   "cell_type": "markdown",
   "id": "2fb55a38-fd23-4935-bda2-bb81ab00d2d8",
   "metadata": {
    "slideshow": {
     "slide_type": "slide"
    },
    "tags": []
   },
   "source": [
    "## Conditions\n",
    "\n",
    "An *if statement* is used to check conditions. The following conditions are available:\n",
    "\n",
    "* Equals: a == b\n",
    "* Not Equals: a != b\n",
    "* Less than: a < b\n",
    "* Less than or equal to: a <= b\n",
    "* Greater than: a > b \n",
    "* Greater than or equal to: a >= b\n",
    "\n",
    "It is possible to combine conditions with *and* and *or*. If-Conditions can have multiple alternatives (*elif*) and a final state (*else*)"
   ]
  },
  {
   "cell_type": "code",
   "execution_count": 21,
   "id": "c53036d7-352b-49ca-9675-cc0eb041f112",
   "metadata": {
    "slideshow": {
     "slide_type": "fragment"
    },
    "tags": []
   },
   "outputs": [
    {
     "name": "stdout",
     "output_type": "stream",
     "text": [
      "2 < 8\n"
     ]
    }
   ],
   "source": [
    "a= 2\n",
    "b= 8\n",
    "\n",
    "if a == b:\n",
    "    print(f'{a} == {b}')\n",
    "elif a < b:  \n",
    "    print(f'{a} < {b}')\n",
    "else:    \n",
    "    print(f'{a} > {b}')\n"
   ]
  },
  {
   "cell_type": "markdown",
   "id": "9039dcdb-c5c6-49e5-8ea5-2ca05f9c5dbc",
   "metadata": {
    "slideshow": {
     "slide_type": "slide"
    },
    "tags": []
   },
   "source": [
    "## Loops\n",
    "\n",
    "A loop is shortcut to run the same code multiple times."
   ]
  },
  {
   "cell_type": "markdown",
   "id": "499fd03c-02b3-4e8a-a830-038ead7067d2",
   "metadata": {
    "slideshow": {
     "slide_type": "fragment"
    },
    "tags": []
   },
   "source": [
    "### For-Loop\n",
    "\n",
    "A For-Loop repeats a predifined number of times. This can be done by providing a list of elements or defining a numeric range. An else-statement at the end of the loop gets executed, if the loop ended properly. The keyword *break* can be used to exit the loop"
   ]
  },
  {
   "cell_type": "code",
   "execution_count": 22,
   "id": "36da7262-2a85-4c39-bb13-cab7ec5c9139",
   "metadata": {
    "slideshow": {
     "slide_type": "fragment"
    },
    "tags": []
   },
   "outputs": [
    {
     "name": "stdout",
     "output_type": "stream",
     "text": [
      "apple\n",
      "banana\n",
      "prune\n",
      "Finished version 1\n",
      "apple\n",
      "banana\n",
      "prune\n",
      "Finished version 2\n",
      "apple\n",
      "banana\n"
     ]
    }
   ],
   "source": [
    "fruits = ['apple', 'banana', 'prune']\n",
    "\n",
    "for fruit in fruits:\n",
    "    print(fruit)\n",
    "else:\n",
    "    print('Finished version 1')\n",
    "        \n",
    "    \n",
    "for i in range(0,3):\n",
    "    print(fruits[i])\n",
    "else:\n",
    "    print('Finished version 2')  \n",
    "    \n",
    "for fruit in fruits:\n",
    "    if fruit == 'prune':\n",
    "        break\n",
    "    else:    \n",
    "        print(fruit)\n",
    "else:\n",
    "    print('Finished version 3')    "
   ]
  },
  {
   "cell_type": "markdown",
   "id": "bf329e65-8247-49fe-b156-c4a4208fda2f",
   "metadata": {},
   "source": [
    "### While-Loop\n",
    "\n",
    "A while loop will be executed until the defined condition is reached."
   ]
  },
  {
   "cell_type": "code",
   "execution_count": 23,
   "id": "0296f8ef-600e-4977-9fc3-490dac419324",
   "metadata": {
    "slideshow": {
     "slide_type": "fragment"
    },
    "tags": []
   },
   "outputs": [
    {
     "name": "stdout",
     "output_type": "stream",
     "text": [
      "0\n",
      "1\n",
      "2\n",
      "3\n",
      "4\n",
      "5\n",
      "6\n",
      "7\n",
      "8\n",
      "9\n"
     ]
    }
   ],
   "source": [
    "n= 0\n",
    "while n < 10:\n",
    "    print(n)\n",
    "    n += 1"
   ]
  },
  {
   "cell_type": "code",
   "execution_count": 24,
   "id": "dec19b18-03ff-46a2-af9f-28675d5562fe",
   "metadata": {
    "slideshow": {
     "slide_type": "fragment"
    },
    "tags": []
   },
   "outputs": [
    {
     "name": "stdout",
     "output_type": "stream",
     "text": [
      "1 execution\n",
      "Enter \"exit\" to exit program or press enter to continue\n"
     ]
    },
    {
     "name": "stdin",
     "output_type": "stream",
     "text": [
      " continue\n"
     ]
    },
    {
     "name": "stdout",
     "output_type": "stream",
     "text": [
      "2 execution\n",
      "Enter \"exit\" to exit program or press enter to continue\n"
     ]
    },
    {
     "name": "stdin",
     "output_type": "stream",
     "text": [
      " stop\n"
     ]
    },
    {
     "name": "stdout",
     "output_type": "stream",
     "text": [
      "3 execution\n",
      "Enter \"exit\" to exit program or press enter to continue\n"
     ]
    },
    {
     "name": "stdin",
     "output_type": "stream",
     "text": [
      " stop!!\n"
     ]
    },
    {
     "name": "stdout",
     "output_type": "stream",
     "text": [
      "4 execution\n",
      "Enter \"exit\" to exit program or press enter to continue\n"
     ]
    },
    {
     "name": "stdin",
     "output_type": "stream",
     "text": [
      " exit\n"
     ]
    },
    {
     "name": "stdout",
     "output_type": "stream",
     "text": [
      "Program exited\n"
     ]
    }
   ],
   "source": [
    "n= 1\n",
    "userInput= ''\n",
    "while userInput != 'exit':\n",
    "    print(f'{n} execution')\n",
    "    print('Enter \"exit\" to exit program or press enter to continue')\n",
    "    userInput= input()\n",
    "    n += 1\n",
    "print('Program exited')    \n",
    "    "
   ]
  },
  {
   "cell_type": "markdown",
   "id": "3e836130-c8f9-41bc-a51d-35f7a7677460",
   "metadata": {
    "slideshow": {
     "slide_type": "slide"
    },
    "tags": []
   },
   "source": [
    "## What to do next?\n",
    "\n",
    "The best way to learn python: start programming! Some ideas for small projects:\n",
    "\n",
    "* Write a program, which returns the name of the week day, if a user puts in a date. Hint: Use the [datetime-module](https://docs.python.org/3/library/datetime.html)\n",
    "* Get all unique words of a text.\n",
    "* Process the headlines of a news website. Hint: You could use the library [Beautiful Soup](https://www.crummy.com/software/BeautifulSoup/bs4/doc/) to do this.\n",
    "\n",
    "You could start directly in this notebook:"
   ]
  },
  {
   "cell_type": "code",
   "execution_count": null,
   "id": "5a795afc-8097-4e45-ab5e-cb1a9f55b45d",
   "metadata": {},
   "outputs": [],
   "source": []
  }
 ],
 "metadata": {
  "kernelspec": {
   "display_name": "Python 3 (ipykernel)",
   "language": "python",
   "name": "python3"
  },
  "language_info": {
   "codemirror_mode": {
    "name": "ipython",
    "version": 3
   },
   "file_extension": ".py",
   "mimetype": "text/x-python",
   "name": "python",
   "nbconvert_exporter": "python",
   "pygments_lexer": "ipython3",
   "version": "3.8.10"
  },
  "widgets": {
   "application/vnd.jupyter.widget-state+json": {
    "state": {},
    "version_major": 2,
    "version_minor": 0
   }
  }
 },
 "nbformat": 4,
 "nbformat_minor": 5
}
